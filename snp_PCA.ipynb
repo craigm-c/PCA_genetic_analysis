{
 "cells": [
  {
   "cell_type": "markdown",
   "id": "85c1d940",
   "metadata": {},
   "source": [
    "# Summary\n",
    "\n",
    "Here we use PCA on single nucleotide polymorphisms in genetic data from 1000 patients. We then combine the PCA plot with information about the geographic location of the patients and we can see three clusters of points on the principal component plot corresponding to patients from to Asia, Europe and Africa and a third more diffuse group of points corresponding to American patients.\n",
    "\n",
    "Data taken from: https://www.internationalgenome.org/category/vcf/\n"
   ]
  },
  {
   "cell_type": "markdown",
   "id": "a0c75b55",
   "metadata": {},
   "source": [
    "# Load modules"
   ]
  },
  {
   "cell_type": "code",
   "execution_count": 1,
   "id": "8e80820f",
   "metadata": {},
   "outputs": [],
   "source": [
    "import vcf\n",
    "import pandas as pd\n",
    "import numpy as np\n",
    "from sklearn.decomposition import PCA\n",
    "import matplotlib.pyplot as plt\n",
    "import seaborn as sns"
   ]
  },
  {
   "cell_type": "markdown",
   "id": "66cbc1bc",
   "metadata": {},
   "source": [
    "# Load data from vcf file\n",
    "\n",
    "Here we are loading all of the single nucleotide polymorphisms in chromosome 21 from 1092 pateints who have had their genome sequenced"
   ]
  },
  {
   "cell_type": "code",
   "execution_count": 2,
   "id": "7a025195",
   "metadata": {},
   "outputs": [],
   "source": [
    "vcf_file = 'ALL.chr21.phase1_release_v3.20101123.snps_indels_svs.genotypes.vcf'\n",
    "panel_file = 'phase1_integrated_calls.20101123.ALL.panel'"
   ]
  },
  {
   "cell_type": "code",
   "execution_count": 3,
   "id": "85068add",
   "metadata": {},
   "outputs": [],
   "source": [
    "vcf_reader = vcf.Reader(filename=vcf_file)"
   ]
  },
  {
   "cell_type": "markdown",
   "id": "ac255281",
   "metadata": {},
   "source": [
    "# Data exploration\n",
    "\n",
    "The structure of the vcf file is that it has a record for each single nucleotide polymorphism and each record has an entry for each patient. We can then use the get_alleles method to return the genotype for the specific single nucleotide polymorphism  in the specific patient.\n",
    "\n",
    "The Record shows:\n",
    "\n",
    "Chromosome number: 21\n",
    "\n",
    "The position of the single nucleotide polymorphism in the chromsome: Pos=xxxxxxxx\n",
    "\n",
    "The nucleotide in the reference genome: REF=X\n",
    "\n",
    "The alternative nucleotide that can be present at this position: ALT=X\n",
    "\n",
    "\n",
    "The get_alleles function return 4 possible lists:\n",
    "\n",
    "['0', '0'] : The patient has the reference nucleotide on both maternal and paternal chromosome\n",
    "\n",
    "['1', '0'] : The patient has the reference nucleotide on one chromosome and the the alternative nucleotide on the other\n",
    "\n",
    "['0', '1'] : The patient has the reference nucleotide on one chromosome and the the alternative nucleotide on the other\n",
    "\n",
    "['1', '1'] : The patient has the alternative nucleotide on both maternal and paternal chromosome"
   ]
  },
  {
   "cell_type": "code",
   "execution_count": 4,
   "id": "8249d526",
   "metadata": {},
   "outputs": [
    {
     "name": "stdout",
     "output_type": "stream",
     "text": [
      "Record: Record(CHROM=21, POS=9411243, REF=A, ALT=[C])\n",
      "patient 1 id: HG00097\n",
      "Genotype: ['0', '0']\n",
      "\n",
      "\n",
      "Record: Record(CHROM=21, POS=9411243, REF=A, ALT=[C])\n",
      "patient 2 id: HG00099\n",
      "Genotype: ['0', '0']\n",
      "\n",
      "\n",
      "Record: Record(CHROM=21, POS=9411243, REF=A, ALT=[C])\n",
      "patient 3 id: HG00100\n",
      "Genotype: ['0', '0']\n",
      "\n",
      "\n",
      "Record: Record(CHROM=21, POS=9411243, REF=A, ALT=[C])\n",
      "patient 4 id: HG00101\n",
      "Genotype: ['0', '0']\n",
      "\n",
      "\n",
      "Record: Record(CHROM=21, POS=9411243, REF=A, ALT=[C])\n",
      "patient 5 id: HG00102\n",
      "Genotype: ['0', '0']\n",
      "\n",
      "\n"
     ]
    }
   ],
   "source": [
    "counter = 0\n",
    "for record in vcf_reader:\n",
    "    for sample in record.samples:\n",
    "        if counter >= 5:\n",
    "            break\n",
    "        counter = counter + 1\n",
    "        print(f'Record: {record}')\n",
    "        print(f'patient {str(counter)} id: {record.samples[counter].sample}')\n",
    "        print(f'Genotype: {record.samples[counter].gt_alleles}')\n",
    "        print('\\n')\n",
    "    break\n"
   ]
  },
  {
   "cell_type": "markdown",
   "id": "3f6b59c5",
   "metadata": {},
   "source": [
    "# Data wrangling\n",
    "\n",
    "We are going to extract all of the patient IDs into a list"
   ]
  },
  {
   "cell_type": "code",
   "execution_count": 5,
   "id": "a7c8af0b",
   "metadata": {},
   "outputs": [
    {
     "name": "stdout",
     "output_type": "stream",
     "text": [
      "['HG00096', 'HG00097', 'HG00099', 'HG00100', 'HG00101']\n",
      "1092\n"
     ]
    }
   ],
   "source": [
    "for record in vcf_reader:\n",
    "    samples = [x.sample for x in record.samples]\n",
    "    break\n",
    "\n",
    "print(samples[:5])\n",
    "print(len(samples))"
   ]
  },
  {
   "cell_type": "markdown",
   "id": "a179edc4",
   "metadata": {},
   "source": [
    "We are now going to pick 1000 single nucleotide polymorphisms from throughout chromosome 21. We are going to store the SNP locations in a list and we are going to extract the genotype for each patient at the position into a list and then append that list into another list so we we end up with a list that contained a list of the genotypes for each patient at each position.\n",
    "\n"
   ]
  },
  {
   "cell_type": "code",
   "execution_count": 6,
   "id": "d1ead6d8",
   "metadata": {},
   "outputs": [],
   "source": [
    "genotypes = []\n",
    "snp_ids = []\n",
    "counter = 0\n",
    "for record in vcf_reader:\n",
    "    if counter % 100 == 0:\n",
    "\n",
    "        alleles = [[int(y) for y in x.gt_alleles] for x in record.samples]\n",
    "        genotypes.append(alleles)\n",
    "        snp_ids.append(record.POS)\n",
    "    if counter > 100000:\n",
    "        break\n",
    "    counter = counter + 1"
   ]
  },
  {
   "cell_type": "code",
   "execution_count": 7,
   "id": "c27316e4",
   "metadata": {},
   "outputs": [
    {
     "name": "stdout",
     "output_type": "stream",
     "text": [
      "[9411254, 9489234, 9571322, 9661657]\n"
     ]
    }
   ],
   "source": [
    "print(snp_ids[0:4])"
   ]
  },
  {
   "cell_type": "code",
   "execution_count": 8,
   "id": "dc570f1e",
   "metadata": {},
   "outputs": [
    {
     "name": "stdout",
     "output_type": "stream",
     "text": [
      "[[0, 0], [0, 0], [0, 0], [0, 0]]\n",
      "[[0, 0], [0, 0], [0, 0], [0, 0]]\n",
      "[[0, 0], [0, 0], [0, 0], [0, 0]]\n",
      "[[1, 1], [1, 0], [1, 0], [1, 0]]\n",
      "[[1, 1], [1, 0], [1, 1], [1, 1]]\n"
     ]
    }
   ],
   "source": [
    "for x in range(5):\n",
    "    print(genotypes[x][0:4])"
   ]
  },
  {
   "cell_type": "code",
   "execution_count": 9,
   "id": "bab508ae",
   "metadata": {},
   "outputs": [
    {
     "name": "stdout",
     "output_type": "stream",
     "text": [
      "[[1 1]\n",
      " [1 0]\n",
      " [1 1]\n",
      " [1 1]]\n",
      "(1001, 1092, 2)\n"
     ]
    }
   ],
   "source": [
    "genotypes_array = np.array(genotypes)\n",
    "\n",
    "print(genotypes_array[4][:4])\n",
    "print(genotypes_array.shape)"
   ]
  },
  {
   "cell_type": "markdown",
   "id": "933d7140",
   "metadata": {},
   "source": [
    "# Data encoding and restructuring\n",
    "\n",
    "At the moment we have the genotypes as a list of 2 numbers for each patient at each position and we want this to be 1 number for the PCA model, so  we encode using the following method:\n",
    "\n",
    "['0', '0'] = 0\n",
    "\n",
    "['1', '0'] = 1\n",
    "\n",
    "['0', '1'] = 1\n",
    "\n",
    "['1', '1'] = 2\n",
    "\n",
    "\n"
   ]
  },
  {
   "cell_type": "code",
   "execution_count": 10,
   "id": "451a25de",
   "metadata": {},
   "outputs": [
    {
     "data": {
      "text/plain": [
       "array([[0, 0, 0, ..., 0, 0, 0],\n",
       "       [0, 0, 0, ..., 0, 0, 0],\n",
       "       [0, 0, 0, ..., 0, 0, 0],\n",
       "       ...,\n",
       "       [0, 0, 0, ..., 0, 0, 0],\n",
       "       [0, 0, 0, ..., 0, 0, 0],\n",
       "       [0, 0, 0, ..., 0, 0, 0]], dtype=int64)"
      ]
     },
     "execution_count": 10,
     "metadata": {},
     "output_type": "execute_result"
    }
   ],
   "source": [
    "matrix = np.count_nonzero(genotypes_array, axis=2)\n",
    "matrix"
   ]
  },
  {
   "cell_type": "markdown",
   "id": "08d0ebf8",
   "metadata": {},
   "source": [
    "We transpose the data to format it correctly"
   ]
  },
  {
   "cell_type": "code",
   "execution_count": 11,
   "id": "bb245e02",
   "metadata": {},
   "outputs": [
    {
     "name": "stdout",
     "output_type": "stream",
     "text": [
      "[0 0 0 0 0 0 0 0 0 0]\n",
      "(1001, 1092)\n"
     ]
    }
   ],
   "source": [
    "matrix_trans = matrix.T\n",
    "print(matrix[15][:10])\n",
    "print(matrix.shape)"
   ]
  },
  {
   "cell_type": "markdown",
   "id": "6d5a506a",
   "metadata": {},
   "source": [
    "# Dataframe\n",
    "\n",
    "We put our genotype data into a dataframe and then add the genome position as the columns and the patient ID as the row index"
   ]
  },
  {
   "cell_type": "code",
   "execution_count": 12,
   "id": "85409708",
   "metadata": {},
   "outputs": [
    {
     "data": {
      "text/html": [
       "<div>\n",
       "<style scoped>\n",
       "    .dataframe tbody tr th:only-of-type {\n",
       "        vertical-align: middle;\n",
       "    }\n",
       "\n",
       "    .dataframe tbody tr th {\n",
       "        vertical-align: top;\n",
       "    }\n",
       "\n",
       "    .dataframe thead th {\n",
       "        text-align: right;\n",
       "    }\n",
       "</style>\n",
       "<table border=\"1\" class=\"dataframe\">\n",
       "  <thead>\n",
       "    <tr style=\"text-align: right;\">\n",
       "      <th></th>\n",
       "      <th>9411254</th>\n",
       "      <th>9489234</th>\n",
       "      <th>9571322</th>\n",
       "      <th>9661657</th>\n",
       "      <th>9774748</th>\n",
       "      <th>9901981</th>\n",
       "      <th>9923904</th>\n",
       "      <th>9938607</th>\n",
       "      <th>9965370</th>\n",
       "      <th>10154118</th>\n",
       "      <th>...</th>\n",
       "      <th>20901189</th>\n",
       "      <th>20905742</th>\n",
       "      <th>20912002</th>\n",
       "      <th>20918474</th>\n",
       "      <th>20923427</th>\n",
       "      <th>20928992</th>\n",
       "      <th>20935270</th>\n",
       "      <th>20940699</th>\n",
       "      <th>20944992</th>\n",
       "      <th>20951266</th>\n",
       "    </tr>\n",
       "  </thead>\n",
       "  <tbody>\n",
       "    <tr>\n",
       "      <th>HG00096</th>\n",
       "      <td>0</td>\n",
       "      <td>0</td>\n",
       "      <td>0</td>\n",
       "      <td>2</td>\n",
       "      <td>2</td>\n",
       "      <td>0</td>\n",
       "      <td>2</td>\n",
       "      <td>1</td>\n",
       "      <td>0</td>\n",
       "      <td>0</td>\n",
       "      <td>...</td>\n",
       "      <td>0</td>\n",
       "      <td>0</td>\n",
       "      <td>0</td>\n",
       "      <td>0</td>\n",
       "      <td>0</td>\n",
       "      <td>0</td>\n",
       "      <td>0</td>\n",
       "      <td>0</td>\n",
       "      <td>0</td>\n",
       "      <td>0</td>\n",
       "    </tr>\n",
       "    <tr>\n",
       "      <th>HG00097</th>\n",
       "      <td>0</td>\n",
       "      <td>0</td>\n",
       "      <td>0</td>\n",
       "      <td>1</td>\n",
       "      <td>1</td>\n",
       "      <td>0</td>\n",
       "      <td>0</td>\n",
       "      <td>0</td>\n",
       "      <td>0</td>\n",
       "      <td>0</td>\n",
       "      <td>...</td>\n",
       "      <td>0</td>\n",
       "      <td>0</td>\n",
       "      <td>0</td>\n",
       "      <td>0</td>\n",
       "      <td>0</td>\n",
       "      <td>0</td>\n",
       "      <td>0</td>\n",
       "      <td>0</td>\n",
       "      <td>0</td>\n",
       "      <td>0</td>\n",
       "    </tr>\n",
       "    <tr>\n",
       "      <th>HG00099</th>\n",
       "      <td>0</td>\n",
       "      <td>0</td>\n",
       "      <td>0</td>\n",
       "      <td>1</td>\n",
       "      <td>2</td>\n",
       "      <td>0</td>\n",
       "      <td>0</td>\n",
       "      <td>0</td>\n",
       "      <td>0</td>\n",
       "      <td>0</td>\n",
       "      <td>...</td>\n",
       "      <td>0</td>\n",
       "      <td>0</td>\n",
       "      <td>0</td>\n",
       "      <td>0</td>\n",
       "      <td>0</td>\n",
       "      <td>0</td>\n",
       "      <td>0</td>\n",
       "      <td>0</td>\n",
       "      <td>0</td>\n",
       "      <td>0</td>\n",
       "    </tr>\n",
       "    <tr>\n",
       "      <th>HG00100</th>\n",
       "      <td>0</td>\n",
       "      <td>0</td>\n",
       "      <td>0</td>\n",
       "      <td>1</td>\n",
       "      <td>2</td>\n",
       "      <td>0</td>\n",
       "      <td>2</td>\n",
       "      <td>2</td>\n",
       "      <td>0</td>\n",
       "      <td>0</td>\n",
       "      <td>...</td>\n",
       "      <td>0</td>\n",
       "      <td>0</td>\n",
       "      <td>0</td>\n",
       "      <td>0</td>\n",
       "      <td>0</td>\n",
       "      <td>0</td>\n",
       "      <td>0</td>\n",
       "      <td>0</td>\n",
       "      <td>0</td>\n",
       "      <td>0</td>\n",
       "    </tr>\n",
       "    <tr>\n",
       "      <th>HG00101</th>\n",
       "      <td>0</td>\n",
       "      <td>0</td>\n",
       "      <td>0</td>\n",
       "      <td>1</td>\n",
       "      <td>2</td>\n",
       "      <td>0</td>\n",
       "      <td>1</td>\n",
       "      <td>0</td>\n",
       "      <td>0</td>\n",
       "      <td>0</td>\n",
       "      <td>...</td>\n",
       "      <td>0</td>\n",
       "      <td>0</td>\n",
       "      <td>0</td>\n",
       "      <td>0</td>\n",
       "      <td>0</td>\n",
       "      <td>0</td>\n",
       "      <td>0</td>\n",
       "      <td>0</td>\n",
       "      <td>0</td>\n",
       "      <td>0</td>\n",
       "    </tr>\n",
       "  </tbody>\n",
       "</table>\n",
       "<p>5 rows × 1001 columns</p>\n",
       "</div>"
      ],
      "text/plain": [
       "         9411254   9489234   9571322   9661657   9774748   9901981   9923904   \\\n",
       "HG00096         0         0         0         2         2         0         2   \n",
       "HG00097         0         0         0         1         1         0         0   \n",
       "HG00099         0         0         0         1         2         0         0   \n",
       "HG00100         0         0         0         1         2         0         2   \n",
       "HG00101         0         0         0         1         2         0         1   \n",
       "\n",
       "         9938607   9965370   10154118  ...  20901189  20905742  20912002  \\\n",
       "HG00096         1         0         0  ...         0         0         0   \n",
       "HG00097         0         0         0  ...         0         0         0   \n",
       "HG00099         0         0         0  ...         0         0         0   \n",
       "HG00100         2         0         0  ...         0         0         0   \n",
       "HG00101         0         0         0  ...         0         0         0   \n",
       "\n",
       "         20918474  20923427  20928992  20935270  20940699  20944992  20951266  \n",
       "HG00096         0         0         0         0         0         0         0  \n",
       "HG00097         0         0         0         0         0         0         0  \n",
       "HG00099         0         0         0         0         0         0         0  \n",
       "HG00100         0         0         0         0         0         0         0  \n",
       "HG00101         0         0         0         0         0         0         0  \n",
       "\n",
       "[5 rows x 1001 columns]"
      ]
     },
     "execution_count": 12,
     "metadata": {},
     "output_type": "execute_result"
    }
   ],
   "source": [
    "df = pd.DataFrame(matrix_trans)\n",
    "df.columns = snp_ids\n",
    "df.index = samples\n",
    "df.head()"
   ]
  },
  {
   "cell_type": "markdown",
   "id": "10a8be6f",
   "metadata": {},
   "source": [
    "# Adding geography information\n",
    "\n",
    "From the supplementary file we find the country and continent info to the dataframe"
   ]
  },
  {
   "cell_type": "code",
   "execution_count": 13,
   "id": "b1803812",
   "metadata": {},
   "outputs": [],
   "source": [
    "with open(panel_file) as panel_file_read:\n",
    "    pop_labels = {}\n",
    "    for line in panel_file_read:\n",
    "        line = line.strip().split('\\t')\n",
    "        pop_labels[line[0]] = line[1]"
   ]
  },
  {
   "cell_type": "code",
   "execution_count": 14,
   "id": "abe9afc1",
   "metadata": {},
   "outputs": [
    {
     "name": "stdout",
     "output_type": "stream",
     "text": [
      "HG00096 GBR\n",
      "HG00097 GBR\n",
      "HG00099 GBR\n",
      "HG00100 GBR\n",
      "HG00101 GBR\n"
     ]
    }
   ],
   "source": [
    "count = 0\n",
    "for key, value in pop_labels.items():\n",
    "    print(key, value)\n",
    "    count += 1\n",
    "    if count == 5:\n",
    "        break"
   ]
  },
  {
   "cell_type": "code",
   "execution_count": 15,
   "id": "650f968c",
   "metadata": {},
   "outputs": [],
   "source": [
    "df['population_code'] = df.index.map(pop_labels)"
   ]
  },
  {
   "cell_type": "code",
   "execution_count": 16,
   "id": "fa0ba48c",
   "metadata": {},
   "outputs": [],
   "source": [
    "with open(panel_file) as panel_file_read:\n",
    "    continent_labels = {}\n",
    "    for line in panel_file_read:\n",
    "        line = line.strip().split('\\t')\n",
    "        continent_labels[line[0]] = line[2]"
   ]
  },
  {
   "cell_type": "code",
   "execution_count": 17,
   "id": "e3771cec",
   "metadata": {},
   "outputs": [
    {
     "name": "stdout",
     "output_type": "stream",
     "text": [
      "HG00096 EUR\n",
      "HG00097 EUR\n",
      "HG00099 EUR\n",
      "HG00100 EUR\n",
      "HG00101 EUR\n"
     ]
    }
   ],
   "source": [
    "count = 0\n",
    "for key, value in continent_labels.items():\n",
    "    print(key, value)\n",
    "    count += 1\n",
    "    if count == 5:\n",
    "        break"
   ]
  },
  {
   "cell_type": "code",
   "execution_count": 18,
   "id": "d68a1fdc",
   "metadata": {},
   "outputs": [],
   "source": [
    "df['continent_code'] = df.index.map(continent_labels)"
   ]
  },
  {
   "cell_type": "code",
   "execution_count": 19,
   "id": "88aaad48",
   "metadata": {},
   "outputs": [
    {
     "data": {
      "text/html": [
       "<div>\n",
       "<style scoped>\n",
       "    .dataframe tbody tr th:only-of-type {\n",
       "        vertical-align: middle;\n",
       "    }\n",
       "\n",
       "    .dataframe tbody tr th {\n",
       "        vertical-align: top;\n",
       "    }\n",
       "\n",
       "    .dataframe thead th {\n",
       "        text-align: right;\n",
       "    }\n",
       "</style>\n",
       "<table border=\"1\" class=\"dataframe\">\n",
       "  <thead>\n",
       "    <tr style=\"text-align: right;\">\n",
       "      <th></th>\n",
       "      <th>9411254</th>\n",
       "      <th>9489234</th>\n",
       "      <th>9571322</th>\n",
       "      <th>9661657</th>\n",
       "      <th>9774748</th>\n",
       "      <th>9901981</th>\n",
       "      <th>9923904</th>\n",
       "      <th>9938607</th>\n",
       "      <th>9965370</th>\n",
       "      <th>10154118</th>\n",
       "      <th>...</th>\n",
       "      <th>20912002</th>\n",
       "      <th>20918474</th>\n",
       "      <th>20923427</th>\n",
       "      <th>20928992</th>\n",
       "      <th>20935270</th>\n",
       "      <th>20940699</th>\n",
       "      <th>20944992</th>\n",
       "      <th>20951266</th>\n",
       "      <th>population_code</th>\n",
       "      <th>continent_code</th>\n",
       "    </tr>\n",
       "  </thead>\n",
       "  <tbody>\n",
       "    <tr>\n",
       "      <th>HG00096</th>\n",
       "      <td>0</td>\n",
       "      <td>0</td>\n",
       "      <td>0</td>\n",
       "      <td>2</td>\n",
       "      <td>2</td>\n",
       "      <td>0</td>\n",
       "      <td>2</td>\n",
       "      <td>1</td>\n",
       "      <td>0</td>\n",
       "      <td>0</td>\n",
       "      <td>...</td>\n",
       "      <td>0</td>\n",
       "      <td>0</td>\n",
       "      <td>0</td>\n",
       "      <td>0</td>\n",
       "      <td>0</td>\n",
       "      <td>0</td>\n",
       "      <td>0</td>\n",
       "      <td>0</td>\n",
       "      <td>GBR</td>\n",
       "      <td>EUR</td>\n",
       "    </tr>\n",
       "    <tr>\n",
       "      <th>HG00097</th>\n",
       "      <td>0</td>\n",
       "      <td>0</td>\n",
       "      <td>0</td>\n",
       "      <td>1</td>\n",
       "      <td>1</td>\n",
       "      <td>0</td>\n",
       "      <td>0</td>\n",
       "      <td>0</td>\n",
       "      <td>0</td>\n",
       "      <td>0</td>\n",
       "      <td>...</td>\n",
       "      <td>0</td>\n",
       "      <td>0</td>\n",
       "      <td>0</td>\n",
       "      <td>0</td>\n",
       "      <td>0</td>\n",
       "      <td>0</td>\n",
       "      <td>0</td>\n",
       "      <td>0</td>\n",
       "      <td>GBR</td>\n",
       "      <td>EUR</td>\n",
       "    </tr>\n",
       "    <tr>\n",
       "      <th>HG00099</th>\n",
       "      <td>0</td>\n",
       "      <td>0</td>\n",
       "      <td>0</td>\n",
       "      <td>1</td>\n",
       "      <td>2</td>\n",
       "      <td>0</td>\n",
       "      <td>0</td>\n",
       "      <td>0</td>\n",
       "      <td>0</td>\n",
       "      <td>0</td>\n",
       "      <td>...</td>\n",
       "      <td>0</td>\n",
       "      <td>0</td>\n",
       "      <td>0</td>\n",
       "      <td>0</td>\n",
       "      <td>0</td>\n",
       "      <td>0</td>\n",
       "      <td>0</td>\n",
       "      <td>0</td>\n",
       "      <td>GBR</td>\n",
       "      <td>EUR</td>\n",
       "    </tr>\n",
       "    <tr>\n",
       "      <th>HG00100</th>\n",
       "      <td>0</td>\n",
       "      <td>0</td>\n",
       "      <td>0</td>\n",
       "      <td>1</td>\n",
       "      <td>2</td>\n",
       "      <td>0</td>\n",
       "      <td>2</td>\n",
       "      <td>2</td>\n",
       "      <td>0</td>\n",
       "      <td>0</td>\n",
       "      <td>...</td>\n",
       "      <td>0</td>\n",
       "      <td>0</td>\n",
       "      <td>0</td>\n",
       "      <td>0</td>\n",
       "      <td>0</td>\n",
       "      <td>0</td>\n",
       "      <td>0</td>\n",
       "      <td>0</td>\n",
       "      <td>GBR</td>\n",
       "      <td>EUR</td>\n",
       "    </tr>\n",
       "    <tr>\n",
       "      <th>HG00101</th>\n",
       "      <td>0</td>\n",
       "      <td>0</td>\n",
       "      <td>0</td>\n",
       "      <td>1</td>\n",
       "      <td>2</td>\n",
       "      <td>0</td>\n",
       "      <td>1</td>\n",
       "      <td>0</td>\n",
       "      <td>0</td>\n",
       "      <td>0</td>\n",
       "      <td>...</td>\n",
       "      <td>0</td>\n",
       "      <td>0</td>\n",
       "      <td>0</td>\n",
       "      <td>0</td>\n",
       "      <td>0</td>\n",
       "      <td>0</td>\n",
       "      <td>0</td>\n",
       "      <td>0</td>\n",
       "      <td>GBR</td>\n",
       "      <td>EUR</td>\n",
       "    </tr>\n",
       "  </tbody>\n",
       "</table>\n",
       "<p>5 rows × 1003 columns</p>\n",
       "</div>"
      ],
      "text/plain": [
       "         9411254  9489234  9571322  9661657  9774748  9901981  9923904  \\\n",
       "HG00096        0        0        0        2        2        0        2   \n",
       "HG00097        0        0        0        1        1        0        0   \n",
       "HG00099        0        0        0        1        2        0        0   \n",
       "HG00100        0        0        0        1        2        0        2   \n",
       "HG00101        0        0        0        1        2        0        1   \n",
       "\n",
       "         9938607  9965370  10154118  ...  20912002  20918474  20923427  \\\n",
       "HG00096        1        0         0  ...         0         0         0   \n",
       "HG00097        0        0         0  ...         0         0         0   \n",
       "HG00099        0        0         0  ...         0         0         0   \n",
       "HG00100        2        0         0  ...         0         0         0   \n",
       "HG00101        0        0         0  ...         0         0         0   \n",
       "\n",
       "         20928992  20935270  20940699  20944992  20951266  population_code  \\\n",
       "HG00096         0         0         0         0         0              GBR   \n",
       "HG00097         0         0         0         0         0              GBR   \n",
       "HG00099         0         0         0         0         0              GBR   \n",
       "HG00100         0         0         0         0         0              GBR   \n",
       "HG00101         0         0         0         0         0              GBR   \n",
       "\n",
       "         continent_code  \n",
       "HG00096             EUR  \n",
       "HG00097             EUR  \n",
       "HG00099             EUR  \n",
       "HG00100             EUR  \n",
       "HG00101             EUR  \n",
       "\n",
       "[5 rows x 1003 columns]"
      ]
     },
     "execution_count": 19,
     "metadata": {},
     "output_type": "execute_result"
    }
   ],
   "source": [
    "df.head()"
   ]
  },
  {
   "cell_type": "markdown",
   "id": "c13bb584",
   "metadata": {},
   "source": [
    "# Prepare data for PCA model"
   ]
  },
  {
   "cell_type": "code",
   "execution_count": 20,
   "id": "70732b59",
   "metadata": {},
   "outputs": [],
   "source": [
    "df_dropped = df.drop(columns=['population_code', 'continent_code'])"
   ]
  },
  {
   "cell_type": "code",
   "execution_count": 21,
   "id": "3efd3b3a",
   "metadata": {},
   "outputs": [
    {
     "data": {
      "text/html": [
       "<div>\n",
       "<style scoped>\n",
       "    .dataframe tbody tr th:only-of-type {\n",
       "        vertical-align: middle;\n",
       "    }\n",
       "\n",
       "    .dataframe tbody tr th {\n",
       "        vertical-align: top;\n",
       "    }\n",
       "\n",
       "    .dataframe thead th {\n",
       "        text-align: right;\n",
       "    }\n",
       "</style>\n",
       "<table border=\"1\" class=\"dataframe\">\n",
       "  <thead>\n",
       "    <tr style=\"text-align: right;\">\n",
       "      <th></th>\n",
       "      <th>9411254</th>\n",
       "      <th>9489234</th>\n",
       "      <th>9571322</th>\n",
       "      <th>9661657</th>\n",
       "      <th>9774748</th>\n",
       "      <th>9901981</th>\n",
       "      <th>9923904</th>\n",
       "      <th>9938607</th>\n",
       "      <th>9965370</th>\n",
       "      <th>10154118</th>\n",
       "      <th>...</th>\n",
       "      <th>20901189</th>\n",
       "      <th>20905742</th>\n",
       "      <th>20912002</th>\n",
       "      <th>20918474</th>\n",
       "      <th>20923427</th>\n",
       "      <th>20928992</th>\n",
       "      <th>20935270</th>\n",
       "      <th>20940699</th>\n",
       "      <th>20944992</th>\n",
       "      <th>20951266</th>\n",
       "    </tr>\n",
       "  </thead>\n",
       "  <tbody>\n",
       "    <tr>\n",
       "      <th>HG00096</th>\n",
       "      <td>0</td>\n",
       "      <td>0</td>\n",
       "      <td>0</td>\n",
       "      <td>2</td>\n",
       "      <td>2</td>\n",
       "      <td>0</td>\n",
       "      <td>2</td>\n",
       "      <td>1</td>\n",
       "      <td>0</td>\n",
       "      <td>0</td>\n",
       "      <td>...</td>\n",
       "      <td>0</td>\n",
       "      <td>0</td>\n",
       "      <td>0</td>\n",
       "      <td>0</td>\n",
       "      <td>0</td>\n",
       "      <td>0</td>\n",
       "      <td>0</td>\n",
       "      <td>0</td>\n",
       "      <td>0</td>\n",
       "      <td>0</td>\n",
       "    </tr>\n",
       "    <tr>\n",
       "      <th>HG00097</th>\n",
       "      <td>0</td>\n",
       "      <td>0</td>\n",
       "      <td>0</td>\n",
       "      <td>1</td>\n",
       "      <td>1</td>\n",
       "      <td>0</td>\n",
       "      <td>0</td>\n",
       "      <td>0</td>\n",
       "      <td>0</td>\n",
       "      <td>0</td>\n",
       "      <td>...</td>\n",
       "      <td>0</td>\n",
       "      <td>0</td>\n",
       "      <td>0</td>\n",
       "      <td>0</td>\n",
       "      <td>0</td>\n",
       "      <td>0</td>\n",
       "      <td>0</td>\n",
       "      <td>0</td>\n",
       "      <td>0</td>\n",
       "      <td>0</td>\n",
       "    </tr>\n",
       "    <tr>\n",
       "      <th>HG00099</th>\n",
       "      <td>0</td>\n",
       "      <td>0</td>\n",
       "      <td>0</td>\n",
       "      <td>1</td>\n",
       "      <td>2</td>\n",
       "      <td>0</td>\n",
       "      <td>0</td>\n",
       "      <td>0</td>\n",
       "      <td>0</td>\n",
       "      <td>0</td>\n",
       "      <td>...</td>\n",
       "      <td>0</td>\n",
       "      <td>0</td>\n",
       "      <td>0</td>\n",
       "      <td>0</td>\n",
       "      <td>0</td>\n",
       "      <td>0</td>\n",
       "      <td>0</td>\n",
       "      <td>0</td>\n",
       "      <td>0</td>\n",
       "      <td>0</td>\n",
       "    </tr>\n",
       "    <tr>\n",
       "      <th>HG00100</th>\n",
       "      <td>0</td>\n",
       "      <td>0</td>\n",
       "      <td>0</td>\n",
       "      <td>1</td>\n",
       "      <td>2</td>\n",
       "      <td>0</td>\n",
       "      <td>2</td>\n",
       "      <td>2</td>\n",
       "      <td>0</td>\n",
       "      <td>0</td>\n",
       "      <td>...</td>\n",
       "      <td>0</td>\n",
       "      <td>0</td>\n",
       "      <td>0</td>\n",
       "      <td>0</td>\n",
       "      <td>0</td>\n",
       "      <td>0</td>\n",
       "      <td>0</td>\n",
       "      <td>0</td>\n",
       "      <td>0</td>\n",
       "      <td>0</td>\n",
       "    </tr>\n",
       "    <tr>\n",
       "      <th>HG00101</th>\n",
       "      <td>0</td>\n",
       "      <td>0</td>\n",
       "      <td>0</td>\n",
       "      <td>1</td>\n",
       "      <td>2</td>\n",
       "      <td>0</td>\n",
       "      <td>1</td>\n",
       "      <td>0</td>\n",
       "      <td>0</td>\n",
       "      <td>0</td>\n",
       "      <td>...</td>\n",
       "      <td>0</td>\n",
       "      <td>0</td>\n",
       "      <td>0</td>\n",
       "      <td>0</td>\n",
       "      <td>0</td>\n",
       "      <td>0</td>\n",
       "      <td>0</td>\n",
       "      <td>0</td>\n",
       "      <td>0</td>\n",
       "      <td>0</td>\n",
       "    </tr>\n",
       "  </tbody>\n",
       "</table>\n",
       "<p>5 rows × 1001 columns</p>\n",
       "</div>"
      ],
      "text/plain": [
       "         9411254   9489234   9571322   9661657   9774748   9901981   9923904   \\\n",
       "HG00096         0         0         0         2         2         0         2   \n",
       "HG00097         0         0         0         1         1         0         0   \n",
       "HG00099         0         0         0         1         2         0         0   \n",
       "HG00100         0         0         0         1         2         0         2   \n",
       "HG00101         0         0         0         1         2         0         1   \n",
       "\n",
       "         9938607   9965370   10154118  ...  20901189  20905742  20912002  \\\n",
       "HG00096         1         0         0  ...         0         0         0   \n",
       "HG00097         0         0         0  ...         0         0         0   \n",
       "HG00099         0         0         0  ...         0         0         0   \n",
       "HG00100         2         0         0  ...         0         0         0   \n",
       "HG00101         0         0         0  ...         0         0         0   \n",
       "\n",
       "         20918474  20923427  20928992  20935270  20940699  20944992  20951266  \n",
       "HG00096         0         0         0         0         0         0         0  \n",
       "HG00097         0         0         0         0         0         0         0  \n",
       "HG00099         0         0         0         0         0         0         0  \n",
       "HG00100         0         0         0         0         0         0         0  \n",
       "HG00101         0         0         0         0         0         0         0  \n",
       "\n",
       "[5 rows x 1001 columns]"
      ]
     },
     "execution_count": 21,
     "metadata": {},
     "output_type": "execute_result"
    }
   ],
   "source": [
    "df_dropped.head()"
   ]
  },
  {
   "cell_type": "markdown",
   "id": "3fc662f2",
   "metadata": {},
   "source": [
    "# Fit PCA model"
   ]
  },
  {
   "cell_type": "code",
   "execution_count": 22,
   "id": "5bc487d2",
   "metadata": {},
   "outputs": [],
   "source": [
    "pca = PCA(n_components=2) \n",
    "transformed_data = pca.fit_transform(df_dropped)\n",
    "pca_df = pd.DataFrame(transformed_data, columns=['PC1', 'PC2'])"
   ]
  },
  {
   "cell_type": "code",
   "execution_count": 23,
   "id": "d108f1cf",
   "metadata": {},
   "outputs": [
    {
     "data": {
      "text/html": [
       "<div>\n",
       "<style scoped>\n",
       "    .dataframe tbody tr th:only-of-type {\n",
       "        vertical-align: middle;\n",
       "    }\n",
       "\n",
       "    .dataframe tbody tr th {\n",
       "        vertical-align: top;\n",
       "    }\n",
       "\n",
       "    .dataframe thead th {\n",
       "        text-align: right;\n",
       "    }\n",
       "</style>\n",
       "<table border=\"1\" class=\"dataframe\">\n",
       "  <thead>\n",
       "    <tr style=\"text-align: right;\">\n",
       "      <th></th>\n",
       "      <th>PC1</th>\n",
       "      <th>PC2</th>\n",
       "    </tr>\n",
       "  </thead>\n",
       "  <tbody>\n",
       "    <tr>\n",
       "      <th>0</th>\n",
       "      <td>-0.171400</td>\n",
       "      <td>3.207675</td>\n",
       "    </tr>\n",
       "    <tr>\n",
       "      <th>1</th>\n",
       "      <td>1.162124</td>\n",
       "      <td>2.635668</td>\n",
       "    </tr>\n",
       "    <tr>\n",
       "      <th>2</th>\n",
       "      <td>-1.223346</td>\n",
       "      <td>3.885776</td>\n",
       "    </tr>\n",
       "    <tr>\n",
       "      <th>3</th>\n",
       "      <td>-1.274145</td>\n",
       "      <td>1.872760</td>\n",
       "    </tr>\n",
       "    <tr>\n",
       "      <th>4</th>\n",
       "      <td>0.575638</td>\n",
       "      <td>3.366727</td>\n",
       "    </tr>\n",
       "  </tbody>\n",
       "</table>\n",
       "</div>"
      ],
      "text/plain": [
       "        PC1       PC2\n",
       "0 -0.171400  3.207675\n",
       "1  1.162124  2.635668\n",
       "2 -1.223346  3.885776\n",
       "3 -1.274145  1.872760\n",
       "4  0.575638  3.366727"
      ]
     },
     "execution_count": 23,
     "metadata": {},
     "output_type": "execute_result"
    }
   ],
   "source": [
    "pca_df.head()"
   ]
  },
  {
   "cell_type": "markdown",
   "id": "3c69cd44",
   "metadata": {},
   "source": [
    "# Add geographical information back in"
   ]
  },
  {
   "cell_type": "code",
   "execution_count": 24,
   "id": "fd0d6839",
   "metadata": {},
   "outputs": [],
   "source": [
    "pca_df['population_code'] = df.reset_index(drop=True)['population_code']\n",
    "pca_df['continent_code'] = df.reset_index(drop=True)['continent_code']"
   ]
  },
  {
   "cell_type": "code",
   "execution_count": 25,
   "id": "72153520",
   "metadata": {},
   "outputs": [
    {
     "data": {
      "text/html": [
       "<div>\n",
       "<style scoped>\n",
       "    .dataframe tbody tr th:only-of-type {\n",
       "        vertical-align: middle;\n",
       "    }\n",
       "\n",
       "    .dataframe tbody tr th {\n",
       "        vertical-align: top;\n",
       "    }\n",
       "\n",
       "    .dataframe thead th {\n",
       "        text-align: right;\n",
       "    }\n",
       "</style>\n",
       "<table border=\"1\" class=\"dataframe\">\n",
       "  <thead>\n",
       "    <tr style=\"text-align: right;\">\n",
       "      <th></th>\n",
       "      <th>PC1</th>\n",
       "      <th>PC2</th>\n",
       "      <th>population_code</th>\n",
       "      <th>continent_code</th>\n",
       "    </tr>\n",
       "  </thead>\n",
       "  <tbody>\n",
       "    <tr>\n",
       "      <th>0</th>\n",
       "      <td>-0.171400</td>\n",
       "      <td>3.207675</td>\n",
       "      <td>GBR</td>\n",
       "      <td>EUR</td>\n",
       "    </tr>\n",
       "    <tr>\n",
       "      <th>1</th>\n",
       "      <td>1.162124</td>\n",
       "      <td>2.635668</td>\n",
       "      <td>GBR</td>\n",
       "      <td>EUR</td>\n",
       "    </tr>\n",
       "    <tr>\n",
       "      <th>2</th>\n",
       "      <td>-1.223346</td>\n",
       "      <td>3.885776</td>\n",
       "      <td>GBR</td>\n",
       "      <td>EUR</td>\n",
       "    </tr>\n",
       "    <tr>\n",
       "      <th>3</th>\n",
       "      <td>-1.274145</td>\n",
       "      <td>1.872760</td>\n",
       "      <td>GBR</td>\n",
       "      <td>EUR</td>\n",
       "    </tr>\n",
       "    <tr>\n",
       "      <th>4</th>\n",
       "      <td>0.575638</td>\n",
       "      <td>3.366727</td>\n",
       "      <td>GBR</td>\n",
       "      <td>EUR</td>\n",
       "    </tr>\n",
       "  </tbody>\n",
       "</table>\n",
       "</div>"
      ],
      "text/plain": [
       "        PC1       PC2 population_code continent_code\n",
       "0 -0.171400  3.207675             GBR            EUR\n",
       "1  1.162124  2.635668             GBR            EUR\n",
       "2 -1.223346  3.885776             GBR            EUR\n",
       "3 -1.274145  1.872760             GBR            EUR\n",
       "4  0.575638  3.366727             GBR            EUR"
      ]
     },
     "execution_count": 25,
     "metadata": {},
     "output_type": "execute_result"
    }
   ],
   "source": [
    "pca_df.head()"
   ]
  },
  {
   "cell_type": "code",
   "execution_count": 26,
   "id": "9abf18a5",
   "metadata": {},
   "outputs": [
    {
     "data": {
      "text/plain": [
       "CHS    100\n",
       "TSI     98\n",
       "CHB     97\n",
       "LWK     97\n",
       "FIN     93\n",
       "GBR     89\n",
       "JPT     89\n",
       "YRI     88\n",
       "CEU     85\n",
       "MXL     66\n",
       "ASW     61\n",
       "CLM     60\n",
       "PUR     55\n",
       "IBS     14\n",
       "Name: population_code, dtype: int64"
      ]
     },
     "execution_count": 26,
     "metadata": {},
     "output_type": "execute_result"
    }
   ],
   "source": [
    "pca_df['population_code'].value_counts()"
   ]
  },
  {
   "cell_type": "code",
   "execution_count": 27,
   "id": "35b1211d",
   "metadata": {},
   "outputs": [
    {
     "data": {
      "text/plain": [
       "EUR    379\n",
       "ASN    286\n",
       "AFR    246\n",
       "AMR    181\n",
       "Name: continent_code, dtype: int64"
      ]
     },
     "execution_count": 27,
     "metadata": {},
     "output_type": "execute_result"
    }
   ],
   "source": [
    "pca_df['continent_code'].value_counts()"
   ]
  },
  {
   "cell_type": "code",
   "execution_count": 28,
   "id": "c9fb88ae",
   "metadata": {},
   "outputs": [],
   "source": [
    "country_dict =   {'GBR':'British',\n",
    "                  'CHS':'Han Chinese South',\n",
    "                  'TSI':'Italians',\n",
    "                  'CHB':'Han Chinese Beijing',\n",
    "                  'LWK':'Kenyan',\n",
    "                  'FIN':'Finnish',\n",
    "                  'JPT':'Japanese',\n",
    "                  'YRI':'Nigerian',\n",
    "                  'CEU':'Utah - European ancestry',\n",
    "                  'MXL':'Mexican-American',\n",
    "                  'ASW':'African-American',\n",
    "                  'CLM':'Colombian',\n",
    "                  'PUR':'Puerto Rican',\n",
    "                  'IBS':'Spanish'\n",
    "                 }\n",
    "\n",
    "\n",
    "continent_dict = {'EUR':'Europe',\n",
    "                  'ASN':'Asia',\n",
    "                  'AFR':'Africa',\n",
    "                  'AMR':'America',\n",
    "                 }"
   ]
  },
  {
   "cell_type": "code",
   "execution_count": 29,
   "id": "57929a4e",
   "metadata": {},
   "outputs": [],
   "source": [
    "pca_df['population_country'] = pca_df['population_code'].map(country_dict)\n",
    "pca_df['population_continent'] = pca_df['continent_code'].map(continent_dict)"
   ]
  },
  {
   "cell_type": "code",
   "execution_count": 30,
   "id": "6e4233e4",
   "metadata": {},
   "outputs": [
    {
     "data": {
      "text/html": [
       "<div>\n",
       "<style scoped>\n",
       "    .dataframe tbody tr th:only-of-type {\n",
       "        vertical-align: middle;\n",
       "    }\n",
       "\n",
       "    .dataframe tbody tr th {\n",
       "        vertical-align: top;\n",
       "    }\n",
       "\n",
       "    .dataframe thead th {\n",
       "        text-align: right;\n",
       "    }\n",
       "</style>\n",
       "<table border=\"1\" class=\"dataframe\">\n",
       "  <thead>\n",
       "    <tr style=\"text-align: right;\">\n",
       "      <th></th>\n",
       "      <th>PC1</th>\n",
       "      <th>PC2</th>\n",
       "      <th>population_code</th>\n",
       "      <th>continent_code</th>\n",
       "      <th>population_country</th>\n",
       "      <th>population_continent</th>\n",
       "    </tr>\n",
       "  </thead>\n",
       "  <tbody>\n",
       "    <tr>\n",
       "      <th>0</th>\n",
       "      <td>-0.171400</td>\n",
       "      <td>3.207675</td>\n",
       "      <td>GBR</td>\n",
       "      <td>EUR</td>\n",
       "      <td>British</td>\n",
       "      <td>Europe</td>\n",
       "    </tr>\n",
       "    <tr>\n",
       "      <th>1</th>\n",
       "      <td>1.162124</td>\n",
       "      <td>2.635668</td>\n",
       "      <td>GBR</td>\n",
       "      <td>EUR</td>\n",
       "      <td>British</td>\n",
       "      <td>Europe</td>\n",
       "    </tr>\n",
       "    <tr>\n",
       "      <th>2</th>\n",
       "      <td>-1.223346</td>\n",
       "      <td>3.885776</td>\n",
       "      <td>GBR</td>\n",
       "      <td>EUR</td>\n",
       "      <td>British</td>\n",
       "      <td>Europe</td>\n",
       "    </tr>\n",
       "    <tr>\n",
       "      <th>3</th>\n",
       "      <td>-1.274145</td>\n",
       "      <td>1.872760</td>\n",
       "      <td>GBR</td>\n",
       "      <td>EUR</td>\n",
       "      <td>British</td>\n",
       "      <td>Europe</td>\n",
       "    </tr>\n",
       "    <tr>\n",
       "      <th>4</th>\n",
       "      <td>0.575638</td>\n",
       "      <td>3.366727</td>\n",
       "      <td>GBR</td>\n",
       "      <td>EUR</td>\n",
       "      <td>British</td>\n",
       "      <td>Europe</td>\n",
       "    </tr>\n",
       "  </tbody>\n",
       "</table>\n",
       "</div>"
      ],
      "text/plain": [
       "        PC1       PC2 population_code continent_code population_country  \\\n",
       "0 -0.171400  3.207675             GBR            EUR            British   \n",
       "1  1.162124  2.635668             GBR            EUR            British   \n",
       "2 -1.223346  3.885776             GBR            EUR            British   \n",
       "3 -1.274145  1.872760             GBR            EUR            British   \n",
       "4  0.575638  3.366727             GBR            EUR            British   \n",
       "\n",
       "  population_continent  \n",
       "0               Europe  \n",
       "1               Europe  \n",
       "2               Europe  \n",
       "3               Europe  \n",
       "4               Europe  "
      ]
     },
     "execution_count": 30,
     "metadata": {},
     "output_type": "execute_result"
    }
   ],
   "source": [
    "pca_df.head()"
   ]
  },
  {
   "cell_type": "code",
   "execution_count": 31,
   "id": "2a451426",
   "metadata": {},
   "outputs": [],
   "source": [
    "pca_df['population_continent'] = pca_df['continent_code'].map(continent_dict)"
   ]
  },
  {
   "cell_type": "code",
   "execution_count": 32,
   "id": "8643cf84",
   "metadata": {},
   "outputs": [
    {
     "data": {
      "text/html": [
       "<div>\n",
       "<style scoped>\n",
       "    .dataframe tbody tr th:only-of-type {\n",
       "        vertical-align: middle;\n",
       "    }\n",
       "\n",
       "    .dataframe tbody tr th {\n",
       "        vertical-align: top;\n",
       "    }\n",
       "\n",
       "    .dataframe thead th {\n",
       "        text-align: right;\n",
       "    }\n",
       "</style>\n",
       "<table border=\"1\" class=\"dataframe\">\n",
       "  <thead>\n",
       "    <tr style=\"text-align: right;\">\n",
       "      <th></th>\n",
       "      <th>PC1</th>\n",
       "      <th>PC2</th>\n",
       "      <th>population_code</th>\n",
       "      <th>continent_code</th>\n",
       "      <th>population_country</th>\n",
       "      <th>population_continent</th>\n",
       "    </tr>\n",
       "  </thead>\n",
       "  <tbody>\n",
       "    <tr>\n",
       "      <th>0</th>\n",
       "      <td>-0.171400</td>\n",
       "      <td>3.207675</td>\n",
       "      <td>GBR</td>\n",
       "      <td>EUR</td>\n",
       "      <td>British</td>\n",
       "      <td>Europe</td>\n",
       "    </tr>\n",
       "    <tr>\n",
       "      <th>1</th>\n",
       "      <td>1.162124</td>\n",
       "      <td>2.635668</td>\n",
       "      <td>GBR</td>\n",
       "      <td>EUR</td>\n",
       "      <td>British</td>\n",
       "      <td>Europe</td>\n",
       "    </tr>\n",
       "    <tr>\n",
       "      <th>2</th>\n",
       "      <td>-1.223346</td>\n",
       "      <td>3.885776</td>\n",
       "      <td>GBR</td>\n",
       "      <td>EUR</td>\n",
       "      <td>British</td>\n",
       "      <td>Europe</td>\n",
       "    </tr>\n",
       "    <tr>\n",
       "      <th>3</th>\n",
       "      <td>-1.274145</td>\n",
       "      <td>1.872760</td>\n",
       "      <td>GBR</td>\n",
       "      <td>EUR</td>\n",
       "      <td>British</td>\n",
       "      <td>Europe</td>\n",
       "    </tr>\n",
       "    <tr>\n",
       "      <th>4</th>\n",
       "      <td>0.575638</td>\n",
       "      <td>3.366727</td>\n",
       "      <td>GBR</td>\n",
       "      <td>EUR</td>\n",
       "      <td>British</td>\n",
       "      <td>Europe</td>\n",
       "    </tr>\n",
       "  </tbody>\n",
       "</table>\n",
       "</div>"
      ],
      "text/plain": [
       "        PC1       PC2 population_code continent_code population_country  \\\n",
       "0 -0.171400  3.207675             GBR            EUR            British   \n",
       "1  1.162124  2.635668             GBR            EUR            British   \n",
       "2 -1.223346  3.885776             GBR            EUR            British   \n",
       "3 -1.274145  1.872760             GBR            EUR            British   \n",
       "4  0.575638  3.366727             GBR            EUR            British   \n",
       "\n",
       "  population_continent  \n",
       "0               Europe  \n",
       "1               Europe  \n",
       "2               Europe  \n",
       "3               Europe  \n",
       "4               Europe  "
      ]
     },
     "execution_count": 32,
     "metadata": {},
     "output_type": "execute_result"
    }
   ],
   "source": [
    "pca_df.head()"
   ]
  },
  {
   "cell_type": "markdown",
   "id": "5a9bfb0b",
   "metadata": {},
   "source": [
    "# Plot data\n",
    "\n",
    "In the first plot we colour by country and it i a bit of a mess but on the second plot we colour by continent and the 3 distinct clusters can be seen to represent Asia, Europe and Africa and thirds group of more diffuse points represent America"
   ]
  },
  {
   "cell_type": "code",
   "execution_count": 33,
   "id": "05533f57",
   "metadata": {},
   "outputs": [
    {
     "data": {
      "image/png": "[encoded data removed]",
      "text/plain": [
       "<Figure size 640x480 with 1 Axes>"
      ]
     },
     "metadata": {},
     "output_type": "display_data"
    }
   ],
   "source": [
    "\n",
    "custom_palette = {'British':'red',\n",
    "                  'Han Chinese South':'brown',\n",
    "                  'Italians':'black',\n",
    "                  'Han Chinese Beijing':'blue',\n",
    "                  'Kenyan':'lightgreen',\n",
    "                  'Finnish':'magenta',\n",
    "                  'Japanese':'green',\n",
    "                  'Nigerian':'cyan',\n",
    "                  'Utah - European ancestry':'yellow',\n",
    "                  'Mexican-American':'darkturquoise',\n",
    "                  'African-American':'purple',\n",
    "                  'Colombian':'lime',\n",
    "                  'Puerto Rican':'orange',\n",
    "                  'Spanish':'gray'\n",
    "                 }\n",
    "\n",
    "\n",
    "sns.set_palette(custom_palette.values())\n",
    "\n",
    "# Create the scatter plot with Seaborn\n",
    "sns.scatterplot(x='PC1', y='PC2', hue='population_country', data=pca_df, palette=custom_palette,  s=20)\n",
    "plt.legend(loc='center left', bbox_to_anchor=(1, 0.5), title='Population Description')\n",
    "\n",
    "# Show the plot\n",
    "plt.show()"
   ]
  },
  {
   "cell_type": "code",
   "execution_count": 34,
   "id": "7535b88d",
   "metadata": {},
   "outputs": [
    {
     "data": {
      "image/png": "[encoded data removed]",
      "text/plain": [
       "<Figure size 640x480 with 1 Axes>"
      ]
     },
     "metadata": {},
     "output_type": "display_data"
    }
   ],
   "source": [
    "\n",
    "custom_palette = continent_dict = {'Europe':'green',\n",
    "                                   'Asia':'blue',\n",
    "                                   'Africa':'orange',\n",
    "                                   'America':'red',\n",
    "                                  }\n",
    "\n",
    "\n",
    "sns.set_palette(custom_palette.values())\n",
    "\n",
    "# Create the scatter plot with Seaborn\n",
    "sns.scatterplot(x='PC1', y='PC2', hue='population_continent', data=pca_df, palette=custom_palette,  s=20)\n",
    "plt.legend(loc='center left', bbox_to_anchor=(1, 0.5), title='Population Continent')\n",
    "\n",
    "# Show the plot\n",
    "plt.show()"
   ]
  },
  {
   "cell_type": "code",
   "execution_count": null,
   "id": "14aec141",
   "metadata": {},
   "outputs": [],
   "source": []
  },
  {
   "cell_type": "code",
   "execution_count": null,
   "id": "28fe257e",
   "metadata": {},
   "outputs": [],
   "source": []
  },
  {
   "cell_type": "code",
   "execution_count": null,
   "id": "7a03d88d",
   "metadata": {},
   "outputs": [],
   "source": []
  },
  {
   "cell_type": "code",
   "execution_count": null,
   "id": "4828c430",
   "metadata": {},
   "outputs": [],
   "source": []
  },
  {
   "cell_type": "code",
   "execution_count": null,
   "id": "dd83d13e",
   "metadata": {},
   "outputs": [],
   "source": []
  },
  {
   "cell_type": "code",
   "execution_count": null,
   "id": "a83fcef6",
   "metadata": {},
   "outputs": [],
   "source": []
  },
  {
   "cell_type": "code",
   "execution_count": null,
   "id": "e887ac81",
   "metadata": {},
   "outputs": [],
   "source": []
  },
  {
   "cell_type": "code",
   "execution_count": null,
   "id": "0c97ab50",
   "metadata": {},
   "outputs": [],
   "source": []
  },
  {
   "cell_type": "code",
   "execution_count": null,
   "id": "682e5eea",
   "metadata": {},
   "outputs": [],
   "source": []
  }
 ],
 "metadata": {
  "kernelspec": {
   "display_name": "Python 3 (ipykernel)",
   "language": "python",
   "name": "python3"
  },
  "language_info": {
   "codemirror_mode": {
    "name": "ipython",
    "version": 3
   },
   "file_extension": ".py",
   "mimetype": "text/x-python",
   "name": "python",
   "nbconvert_exporter": "python",
   "pygments_lexer": "ipython3",
   "version": "3.11.1"
  }
 },
 "nbformat": 4,
 "nbformat_minor": 5
}
